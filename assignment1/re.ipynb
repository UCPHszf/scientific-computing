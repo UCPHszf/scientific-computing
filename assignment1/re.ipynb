{
 "cells": [
  {
   "cell_type": "code",
   "execution_count": 2,
   "metadata": {
    "collapsed": true
   },
   "outputs": [],
   "source": [
    "import re"
   ]
  },
  {
   "cell_type": "markdown",
   "source": [
    "匹配一个特定的字符串"
   ],
   "metadata": {
    "collapsed": false
   }
  },
  {
   "cell_type": "code",
   "execution_count": 4,
   "outputs": [
    {
     "name": "stdout",
     "output_type": "stream",
     "text": [
      "[]\n"
     ]
    }
   ],
   "source": [
    "text = 'abc123456def789101112'\n",
    "print(re.findall(r'1234567', text))"
   ],
   "metadata": {
    "collapsed": false,
    "pycharm": {
     "name": "#%%\n"
    }
   }
  },
  {
   "cell_type": "markdown",
   "source": [
    "\\d匹配一个数字 \\D非数字 \\s一个空格 \\S一个非空格 \\w字母数字下划线 \\W与小写w相反 [abcd]abcd任意字符\n",
    " [a-e]a到e的任意字符 [^a-d]取反，除a-d的任意字符 .除换行符的任意字符"
   ],
   "metadata": {
    "collapsed": false
   }
  },
  {
   "cell_type": "code",
   "execution_count": 5,
   "outputs": [
    {
     "data": {
      "text/plain": "['1', '2', '3', '4', '5', '6', '7', '8', '9', '1', '0', '1', '1', '1', '2']"
     },
     "execution_count": 5,
     "metadata": {},
     "output_type": "execute_result"
    }
   ],
   "source": [
    "re.findall(r'\\d', text)"
   ],
   "metadata": {
    "collapsed": false,
    "pycharm": {
     "name": "#%%\n"
    }
   }
  },
  {
   "cell_type": "markdown",
   "source": [
    "匹配一组字符"
   ],
   "metadata": {
    "collapsed": false
   }
  },
  {
   "cell_type": "code",
   "execution_count": 9,
   "outputs": [
    {
     "data": {
      "text/plain": "['1234', 'e', '1', '1112']"
     },
     "execution_count": 9,
     "metadata": {},
     "output_type": "execute_result"
    }
   ],
   "source": [
    "re.findall(r'[1234e]+', text)"
   ],
   "metadata": {
    "collapsed": false,
    "pycharm": {
     "name": "#%%\n"
    }
   }
  },
  {
   "cell_type": "markdown",
   "source": [
    "+:一或者多个\n",
    "*:0或多个\n",
    "?:0或1个"
   ],
   "metadata": {
    "collapsed": false
   }
  },
  {
   "cell_type": "code",
   "execution_count": 10,
   "outputs": [
    {
     "data": {
      "text/plain": "['123456', '789101112']"
     },
     "execution_count": 10,
     "metadata": {},
     "output_type": "execute_result"
    }
   ],
   "source": [
    "re.findall(r'\\d+', text)"
   ],
   "metadata": {
    "collapsed": false,
    "pycharm": {
     "name": "#%%\n"
    }
   }
  },
  {
   "cell_type": "markdown",
   "source": [
    "匹配指定重复次数"
   ],
   "metadata": {
    "collapsed": false
   }
  },
  {
   "cell_type": "code",
   "execution_count": 16,
   "outputs": [
    {
     "data": {
      "text/plain": "['1234', '7891', '0111']"
     },
     "execution_count": 16,
     "metadata": {},
     "output_type": "execute_result"
    }
   ],
   "source": [
    "re.findall(r'\\d{4}', text)"
   ],
   "metadata": {
    "collapsed": false,
    "pycharm": {
     "name": "#%%\n"
    }
   }
  },
  {
   "cell_type": "code",
   "execution_count": 20,
   "outputs": [
    {
     "data": {
      "text/plain": "['1234', '56', '7891', '0111', '2']"
     },
     "execution_count": 20,
     "metadata": {},
     "output_type": "execute_result"
    }
   ],
   "source": [
    "re.findall(r'\\d{1,4}', text)"
   ],
   "metadata": {
    "collapsed": false,
    "pycharm": {
     "name": "#%%\n"
    }
   }
  },
  {
   "cell_type": "markdown",
   "source": [],
   "metadata": {
    "collapsed": false
   }
  },
  {
   "cell_type": "markdown",
   "source": [
    "组合或匹配多种模式"
   ],
   "metadata": {
    "collapsed": false
   }
  },
  {
   "cell_type": "code",
   "execution_count": 23,
   "outputs": [
    {
     "data": {
      "text/plain": "['13208557070']"
     },
     "execution_count": 23,
     "metadata": {},
     "output_type": "execute_result"
    }
   ],
   "source": [
    "mobile_phone = '0855-7524868'\n",
    "landline_phone = '13208557070'\n",
    "re.findall(r'\\d{3,4}-\\d{7,8}|1\\d{10}', landline_phone)"
   ],
   "metadata": {
    "collapsed": false,
    "pycharm": {
     "name": "#%%\n"
    }
   }
  },
  {
   "cell_type": "markdown",
   "source": [
    "限定位置 ^表示开头 $表示结尾 \\A \\Z同样分别表示匹配开头结尾 忽略m标记(跨行标记) \\b 单词边界 \\B 非单词边界\n",
    "(?=...) 匹配...出现在之后的位置 (?!...) 匹配...不出现在之后的位置 (?<=...) 匹配...出现在之前的位置\n",
    "(?!<=...)匹配...不出现在之前的位置"
   ],
   "metadata": {
    "collapsed": false
   }
  },
  {
   "cell_type": "code",
   "execution_count": 54,
   "outputs": [
    {
     "data": {
      "text/plain": "['123456']"
     },
     "execution_count": 54,
     "metadata": {},
     "output_type": "execute_result"
    }
   ],
   "source": [
    "pwd = '12345678密码:123456'\n",
    "re.findall(r'(?<=密码.)\\d+', pwd)"
   ],
   "metadata": {
    "collapsed": false,
    "pycharm": {
     "name": "#%%\n"
    }
   }
  },
  {
   "cell_type": "code",
   "execution_count": 33,
   "outputs": [
    {
     "name": "stdout",
     "output_type": "stream",
     "text": [
      "[('bar', 'bar'), ('car', 'car')]\n"
     ]
    }
   ],
   "source": [
    "duplicate_words = \"barbar carcar dardae\"\n",
    "print(re.findall(r'(\\w{3})(\\1)', duplicate_words))"
   ],
   "metadata": {
    "collapsed": false,
    "pycharm": {
     "name": "#%%\n"
    }
   }
  },
  {
   "cell_type": "markdown",
   "source": [
    "re模块\n",
    "\n",
    "re.search() 查找符合模式的字符 只返回第一个 并返回Match对象\n",
    "re.match() 从开头匹配 其余用法同上\n",
    "re.findall() 查找所有匹配的字符\n",
    "re.finditer() 返回一个迭代器\n",
    "re.sub() 替换匹配的字符串\n",
    "re.compile() 把正则表达式编译成一个对象"
   ],
   "metadata": {
    "collapsed": false
   }
  },
  {
   "cell_type": "code",
   "execution_count": 131,
   "outputs": [
    {
     "name": "stdout",
     "output_type": "stream",
     "text": [
      "0855-7524868\n",
      "0855\n",
      "7524868\n",
      "('0855', '7524868')\n"
     ]
    }
   ],
   "source": [
    "m = re.search(r'(\\d{2,4})-(\\d{7,8})', mobile_phone)\n",
    "print(m.group())\n",
    "print(m.group(1))\n",
    "print(m.group(2))\n",
    "print(m.groups())"
   ],
   "metadata": {
    "collapsed": false,
    "pycharm": {
     "name": "#%%\n"
    }
   }
  },
  {
   "cell_type": "code",
   "execution_count": 140,
   "outputs": [
    {
     "name": "stdout",
     "output_type": "stream",
     "text": [
      "what is the problem\n",
      "('what is the', 'problem')\n",
      "[' is the problem']\n"
     ]
    }
   ],
   "source": [
    "test_question_mark = 'what is the problem?'\n",
    "m = re.search(r'(.+)\\s+(.+\\s*(?=\\?))', test_question_mark)\n",
    "print(m.group())\n",
    "print(m.groups())"
   ],
   "metadata": {
    "collapsed": false,
    "pycharm": {
     "name": "#%%\n"
    }
   }
  },
  {
   "cell_type": "code",
   "execution_count": 5,
   "outputs": [
    {
     "name": "stdout",
     "output_type": "stream",
     "text": [
      "['What', 'Are', 'you', 'crazy', 'Come', 'on', 'bro', 'there', 'are', 'many', 'things', 'to', 'expect', 'the', 'blue', 'sky', 'the', 'sea', 'people', 'you', 'love', 'cheer', 'up', 'and', 'go', 'on']\n"
     ]
    }
   ],
   "source": [
    "test_english = \" What? Are     you crazy? Come on, bro, there are many things to expect, the blue sky; the sea; people you love; cheer    up and go on!\"\n",
    "print(re.findall(r'\\w+', test_english))"
   ],
   "metadata": {
    "collapsed": false,
    "pycharm": {
     "name": "#%%\n"
    }
   }
  },
  {
   "cell_type": "code",
   "execution_count": 3,
   "outputs": [
    {
     "name": "stdout",
     "output_type": "stream",
     "text": [
      "['サー', 'マイケル', 'フィリップ', 'ジャガーの出身は']\n"
     ]
    }
   ],
   "source": [
    "test_japanese = 'サー・マイケル・フィリップ・ジャガーの出身は？'\n",
    "print(re.findall(r'\\w+', test_japanese))"
   ],
   "metadata": {
    "collapsed": false,
    "pycharm": {
     "name": "#%%\n"
    }
   }
  },
  {
   "cell_type": "code",
   "execution_count": 14,
   "outputs": [
    {
     "name": "stdout",
     "output_type": "stream",
     "text": [
      "dfdd\n",
      "dsasd\n"
     ]
    }
   ],
   "source": [
    "test_mix = \"13 44 dfdd dsasd 1jsd\"\n",
    "w_pattern = re.compile(r'\\w+')\n",
    "d_pattern = re.compile(r'\\d+')\n",
    "\n",
    "for w in w_pattern.findall(test_mix):\n",
    "    tmp = d_pattern.findall(w)\n",
    "    if len(tmp) == 0:\n",
    "        print(w)"
   ],
   "metadata": {
    "collapsed": false,
    "pycharm": {
     "name": "#%%\n"
    }
   }
  },
  {
   "cell_type": "code",
   "execution_count": 21,
   "outputs": [
    {
     "name": "stdout",
     "output_type": "stream",
     "text": [
      "[1, 2, 3]\n",
      "[4, 5, 6]\n",
      "[1, 2, 3, 4, 5, 6]\n"
     ]
    }
   ],
   "source": [
    "a = [1, 2, 3]\n",
    "b = [4, 5, 6]\n",
    "c = a + b\n",
    "print(a)\n",
    "print(b)\n",
    "print(c)"
   ],
   "metadata": {
    "collapsed": false,
    "pycharm": {
     "name": "#%%\n"
    }
   }
  },
  {
   "cell_type": "code",
   "execution_count": 31,
   "outputs": [
    {
     "name": "stdout",
     "output_type": "stream",
     "text": [
      "[[0 1 0 1 1 0]\n",
      " [0 0 0 1 0 1]\n",
      " [1 0 1 0 0 0]]\n"
     ]
    },
    {
     "data": {
      "text/plain": "['he', 'i', 'is', 'love', 'please', 'you']"
     },
     "execution_count": 31,
     "metadata": {},
     "output_type": "execute_result"
    }
   ],
   "source": [
    "from sklearn.feature_extraction.text import CountVectorizer\n",
    "\n",
    "corpus = [\n",
    "    \"I please love\",\n",
    "    \"you love\",\n",
    "    \"he is\"\n",
    "]\n",
    "\n",
    "vectorizer = CountVectorizer(token_pattern=r'\\w+')\n",
    "X = vectorizer.fit_transform(corpus)\n",
    "vectorizer.get_feature_names()\n",
    "print(X.toarray())\n",
    "vectorizer.get_feature_names()"
   ],
   "metadata": {
    "collapsed": false,
    "pycharm": {
     "name": "#%%\n"
    }
   }
  },
  {
   "cell_type": "code",
   "execution_count": 36,
   "outputs": [
    {
     "name": "stdout",
     "output_type": "stream",
     "text": [
      "[[1 0 0 1 0 0]\n",
      " [0 0 1 0 1 0]\n",
      " [0 0 0 0 0 0]]\n"
     ]
    }
   ],
   "source": [
    "vec0 = CountVectorizer(token_pattern=r'\\w+')\n",
    "corpus = [\n",
    "    'I am', ' he is', 'we are'\n",
    "]\n",
    "vec0.fit(corpus)\n",
    "test0 = ['I am','he is','empty']\n",
    "w0 = vec0.transform(test0)\n",
    "print(w0.toarray())"
   ],
   "metadata": {
    "collapsed": false,
    "pycharm": {
     "name": "#%%\n"
    }
   }
  },
  {
   "cell_type": "code",
   "execution_count": 37,
   "outputs": [
    {
     "data": {
      "text/plain": "array([10, 20, 30, 40, 50, 60, 70, 80, 90])"
     },
     "execution_count": 37,
     "metadata": {},
     "output_type": "execute_result"
    }
   ],
   "source": [
    "import numpy as np\n",
    "np.arange(10,100,10)"
   ],
   "metadata": {
    "collapsed": false,
    "pycharm": {
     "name": "#%%\n"
    }
   }
  },
  {
   "cell_type": "code",
   "execution_count": null,
   "outputs": [],
   "source": [],
   "metadata": {
    "collapsed": false,
    "pycharm": {
     "name": "#%%\n"
    }
   }
  }
 ],
 "metadata": {
  "kernelspec": {
   "display_name": "Python 3",
   "language": "python",
   "name": "python3"
  },
  "language_info": {
   "codemirror_mode": {
    "name": "ipython",
    "version": 2
   },
   "file_extension": ".py",
   "mimetype": "text/x-python",
   "name": "python",
   "nbconvert_exporter": "python",
   "pygments_lexer": "ipython2",
   "version": "2.7.6"
  }
 },
 "nbformat": 4,
 "nbformat_minor": 0
}